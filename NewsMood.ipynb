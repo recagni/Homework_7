{
 "cells": [
  {
   "cell_type": "markdown",
   "metadata": {},
   "source": [
    "# NewsMood\n",
    "\n",
    "## Analysis\n",
    "\n",
    "As of the beginning of March, sentiments were generally positive at the five examined news outlets and, at first sights (scatter plot), didn't seem too different from each other.\n",
    "\n",
    "However, a closer look at the bar chart revealed that they were clearly more postive at CBS and CNN (around 30% compounded score) than in the other outlets, where they sit at around 10-15%.  "
   ]
  },
  {
   "cell_type": "code",
   "execution_count": 15,
   "metadata": {
    "collapsed": true
   },
   "outputs": [],
   "source": [
    "# MODULES\n",
    "    \n",
    "# 1) \"matplotlib\" and \"seaborn\" were imported because we want to make charts (seaborn, built on top of matplotlib,\n",
    "#    is a library to make particularly attractive charts)\n",
    "# 2) \"numpy\" was imported because we wanted to use the \"random.uniform\" function, which is part of numpy\n",
    "# 3) \"pandas\" was imported because we want to do this exercise in Pandas\n",
    "# 4) \"json\" and \"tweepy\" were imported because we are dealing with JSON files and with Twitter\n",
    "# 5) \"time\" is imported because we may want to make use of dates and things of that sort\n",
    "# 6) \"SentimentIntensityAnalyzer\" was imported for analyzing Twitter writers' sentiments\n",
    "\n",
    "import matplotlib.pyplot as plt\n",
    "import seaborn as sns\n",
    "import numpy as np\n",
    "import pandas as pd\n",
    "import json\n",
    "import tweepy\n",
    "import time\n",
    "from vaderSentiment.vaderSentiment import SentimentIntensityAnalyzer\n",
    "\n",
    "# Initialize the analyzer\n",
    "\n",
    "analyzer = SentimentIntensityAnalyzer()"
   ]
  },
  {
   "cell_type": "code",
   "execution_count": 16,
   "metadata": {},
   "outputs": [],
   "source": [
    "# TWITTER API\n",
    "\n",
    "# Twitter API keys\n",
    "\n",
    "# consumer_key = \"vnn94VlkLW6ftf3umIyqvdkDc\"\n",
    "# consumer_secret = \"0h6CnRFCa43h9yrXbe1zAB6vE9PVIRP1D6NO4lRweIBZNwCRay\"\n",
    "# access_token = \"942946411133337600-TqcZS5K3pX1gznvkFFDKaotuEdhuafO\"\n",
    "# access_token_secret = \"E3qQ5VBTuUc1uNmokmzm4CoUypjpRnCWp4RWTdVq2zUTs\"\n",
    "\n",
    "consumer_key = \"oazcrMu8Z1T9sptYwn3GkIPRB\"\n",
    "consumer_secret = \"BGghZQFD6UWcRADeYJpfaOggtmN3eIrW9TAEj8Bthyut2ahFLq\"\n",
    "access_token = \"942946854945243136-PWy7wmiS6VOupjfbUFnlflvTQpi1xvt\"\n",
    "access_token_secret = \"F4qJi5lkzXm7mTTmAyIauHUI2zFtiWcbG8LIqTt0CntHj\"\n",
    "\n",
    "# Setup tweepy API authentication\n",
    "\n",
    "auth = tweepy.OAuthHandler(consumer_key, consumer_secret)\n",
    "auth.set_access_token(access_token, access_token_secret)\n",
    "api = tweepy.API(auth, parser=tweepy.parsers.JSONParser())"
   ]
  },
  {
   "cell_type": "code",
   "execution_count": 26,
   "metadata": {
    "collapsed": true
   },
   "outputs": [],
   "source": [
    "# NEWS OUTLETS\n",
    "\n",
    "sources = [\"BBC\", \"CBS\", \"CNN\", \"FoxNews\", \"nytimes\"]"
   ]
  },
  {
   "cell_type": "code",
   "execution_count": 27,
   "metadata": {
    "collapsed": true,
    "scrolled": true
   },
   "outputs": [],
   "source": [
    "# TWEET DOWNLOAD\n",
    "\n",
    "# Create lists, initially empty, where to place the data and scores downloaded from Twitter\n",
    "\n",
    "source = []\n",
    "date = []\n",
    "text = []\n",
    "posScore = []\n",
    "negScore = []\n",
    "neutralScore = []\n",
    "compoundedScore = []\n",
    "\n",
    "# Loop through each news source and, from each of them, grab 100 tweets\n",
    "\n",
    "for i in sources:\n",
    "    tweets = api.user_timeline(i, count=100)\n",
    "\n",
    "# The terms \"compound\", \"pos\", \"neu\", neg\", \"text\", \"created_at\" are immutable and can be seen in the downloaded \n",
    "# JSON elements\n",
    "\n",
    "    for j in tweets:\n",
    "        source.append(j[\"user\"][\"name\"])\n",
    "        text.append(j[\"text\"])\n",
    "        date.append(j[\"created_at\"])\n",
    "\n",
    "# The Vader sentiment analyzer is used to evaluate the various scores (positive, negative, neutral, and compounded)\n",
    "\n",
    "        posScore.append(analyzer.polarity_scores(j[\"text\"])[\"pos\"])\n",
    "        negScore.append(analyzer.polarity_scores(j[\"text\"])[\"neg\"])\n",
    "        neutralScore.append(analyzer.polarity_scores(j[\"text\"])[\"neu\"])\n",
    "        compoundedScore.append(analyzer.polarity_scores(j[\"text\"])[\"compound\"])"
   ]
  },
  {
   "cell_type": "code",
   "execution_count": 28,
   "metadata": {},
   "outputs": [
    {
     "data": {
      "text/html": [
       "<div>\n",
       "<style>\n",
       "    .dataframe thead tr:only-child th {\n",
       "        text-align: right;\n",
       "    }\n",
       "\n",
       "    .dataframe thead th {\n",
       "        text-align: left;\n",
       "    }\n",
       "\n",
       "    .dataframe tbody tr th {\n",
       "        vertical-align: top;\n",
       "    }\n",
       "</style>\n",
       "<table border=\"1\" class=\"dataframe\">\n",
       "  <thead>\n",
       "    <tr style=\"text-align: right;\">\n",
       "      <th></th>\n",
       "      <th>Source</th>\n",
       "      <th>Date</th>\n",
       "      <th>Positive Score</th>\n",
       "      <th>Negative Score</th>\n",
       "      <th>Neutral Score</th>\n",
       "      <th>Compounded Score</th>\n",
       "      <th>Text</th>\n",
       "    </tr>\n",
       "  </thead>\n",
       "  <tbody>\n",
       "    <tr>\n",
       "      <th>0</th>\n",
       "      <td>BBC</td>\n",
       "      <td>Mon Mar 05 09:00:05 +0000 2018</td>\n",
       "      <td>0.000</td>\n",
       "      <td>0.000</td>\n",
       "      <td>1.000</td>\n",
       "      <td>0.0000</td>\n",
       "      <td>😍 A rare pure-white stoat! https://t.co/VoR9jX...</td>\n",
       "    </tr>\n",
       "    <tr>\n",
       "      <th>1</th>\n",
       "      <td>BBC</td>\n",
       "      <td>Mon Mar 05 08:30:04 +0000 2018</td>\n",
       "      <td>0.000</td>\n",
       "      <td>0.000</td>\n",
       "      <td>1.000</td>\n",
       "      <td>0.0000</td>\n",
       "      <td>Many personality traits can be observed but th...</td>\n",
       "    </tr>\n",
       "    <tr>\n",
       "      <th>2</th>\n",
       "      <td>BBC</td>\n",
       "      <td>Mon Mar 05 08:00:04 +0000 2018</td>\n",
       "      <td>0.000</td>\n",
       "      <td>0.000</td>\n",
       "      <td>1.000</td>\n",
       "      <td>0.0000</td>\n",
       "      <td>🐝🍯 How honey is collected.\\n#AmazingHotels htt...</td>\n",
       "    </tr>\n",
       "    <tr>\n",
       "      <th>3</th>\n",
       "      <td>BBC</td>\n",
       "      <td>Sun Mar 04 20:11:35 +0000 2018</td>\n",
       "      <td>0.184</td>\n",
       "      <td>0.089</td>\n",
       "      <td>0.726</td>\n",
       "      <td>0.4019</td>\n",
       "      <td>RT @BBCNewsbeat: Miss Piggy has some strong fe...</td>\n",
       "    </tr>\n",
       "    <tr>\n",
       "      <th>4</th>\n",
       "      <td>BBC</td>\n",
       "      <td>Sun Mar 04 19:00:05 +0000 2018</td>\n",
       "      <td>0.386</td>\n",
       "      <td>0.000</td>\n",
       "      <td>0.614</td>\n",
       "      <td>0.8468</td>\n",
       "      <td>Sloths have survived for more than 60 million ...</td>\n",
       "    </tr>\n",
       "  </tbody>\n",
       "</table>\n",
       "</div>"
      ],
      "text/plain": [
       "  Source                            Date  Positive Score  Negative Score  \\\n",
       "0    BBC  Mon Mar 05 09:00:05 +0000 2018           0.000           0.000   \n",
       "1    BBC  Mon Mar 05 08:30:04 +0000 2018           0.000           0.000   \n",
       "2    BBC  Mon Mar 05 08:00:04 +0000 2018           0.000           0.000   \n",
       "3    BBC  Sun Mar 04 20:11:35 +0000 2018           0.184           0.089   \n",
       "4    BBC  Sun Mar 04 19:00:05 +0000 2018           0.386           0.000   \n",
       "\n",
       "   Neutral Score  Compounded Score  \\\n",
       "0          1.000            0.0000   \n",
       "1          1.000            0.0000   \n",
       "2          1.000            0.0000   \n",
       "3          0.726            0.4019   \n",
       "4          0.614            0.8468   \n",
       "\n",
       "                                                Text  \n",
       "0  😍 A rare pure-white stoat! https://t.co/VoR9jX...  \n",
       "1  Many personality traits can be observed but th...  \n",
       "2  🐝🍯 How honey is collected.\\n#AmazingHotels htt...  \n",
       "3  RT @BBCNewsbeat: Miss Piggy has some strong fe...  \n",
       "4  Sloths have survived for more than 60 million ...  "
      ]
     },
     "execution_count": 28,
     "metadata": {},
     "output_type": "execute_result"
    }
   ],
   "source": [
    "# Include all information gathered into a Pandas dataframe\n",
    "\n",
    "df=pd.DataFrame({\"Source\":source,\"Date\":date,\"Text\":text,\"Positive Score\":posScore,\"Negative Score\":negScore,\n",
    "                \"Neutral Score\":neutralScore,\"Compounded Score\":compoundedScore},\n",
    "                columns=[\"Source\",\"Date\",\"Positive Score\",\"Negative Score\",\"Neutral Score\",\"Compounded Score\",\"Text\"])\n",
    "\n",
    "# Show the dataframe\n",
    "df.head()"
   ]
  },
  {
   "cell_type": "code",
   "execution_count": 29,
   "metadata": {},
   "outputs": [
    {
     "data": {
      "text/plain": [
       "Source              500\n",
       "Date                500\n",
       "Positive Score      500\n",
       "Negative Score      500\n",
       "Neutral Score       500\n",
       "Compounded Score    500\n",
       "Text                500\n",
       "dtype: int64"
      ]
     },
     "execution_count": 29,
     "metadata": {},
     "output_type": "execute_result"
    }
   ],
   "source": [
    "# To check that indeed 500 tweets were examined, count them\n",
    "\n",
    "df.count()"
   ]
  },
  {
   "cell_type": "code",
   "execution_count": 30,
   "metadata": {
    "collapsed": true
   },
   "outputs": [],
   "source": [
    "# EXPORT FILE\n",
    "\n",
    "# Export the dataframe into an output CSV file located in the folder \"output\", placed in the same folder as the code\n",
    "# The file name, using a clever time stamp, will show as MM-DD-YY-Output.csv\n",
    "\n",
    "KKK = str(time.strftime(\"%m-%d-%y\")) + \"-Output.csv\"\n",
    "df.to_csv(\"output/\" + KKK, encoding=\"utf-8\")"
   ]
  },
  {
   "cell_type": "code",
   "execution_count": 31,
   "metadata": {},
   "outputs": [
    {
     "data": {
      "text/plain": [
       "array(['BBC', 'CBS', 'CNN', 'Fox News', 'The New York Times'], dtype=object)"
      ]
     },
     "execution_count": 31,
     "metadata": {},
     "output_type": "execute_result"
    }
   ],
   "source": [
    "# SENTIMENT ANALYSIS BY NEWS SOURCE\n",
    "\n",
    "# To create the plot, first we need to know the exact source names as reported in the file just exported out\n",
    "\n",
    "df[\"Source\"].unique()"
   ]
  },
  {
   "cell_type": "code",
   "execution_count": 33,
   "metadata": {},
   "outputs": [
    {
     "data": {
      "text/html": [
       "<div>\n",
       "<style>\n",
       "    .dataframe thead tr:only-child th {\n",
       "        text-align: right;\n",
       "    }\n",
       "\n",
       "    .dataframe thead th {\n",
       "        text-align: left;\n",
       "    }\n",
       "\n",
       "    .dataframe tbody tr th {\n",
       "        vertical-align: top;\n",
       "    }\n",
       "</style>\n",
       "<table border=\"1\" class=\"dataframe\">\n",
       "  <thead>\n",
       "    <tr style=\"text-align: right;\">\n",
       "      <th></th>\n",
       "      <th>Source</th>\n",
       "      <th>Date</th>\n",
       "      <th>Positive Score</th>\n",
       "      <th>Negative Score</th>\n",
       "      <th>Neutral Score</th>\n",
       "      <th>Compounded Score</th>\n",
       "      <th>Text</th>\n",
       "    </tr>\n",
       "  </thead>\n",
       "  <tbody>\n",
       "    <tr>\n",
       "      <th>0</th>\n",
       "      <td>CBS</td>\n",
       "      <td>2018-01-29 08:18:18</td>\n",
       "      <td>0.000</td>\n",
       "      <td>0.000</td>\n",
       "      <td>1.000</td>\n",
       "      <td>0.0000</td>\n",
       "      <td>The stage was packed with star power from star...</td>\n",
       "    </tr>\n",
       "    <tr>\n",
       "      <th>1</th>\n",
       "      <td>CBS</td>\n",
       "      <td>2018-01-29 12:00:03</td>\n",
       "      <td>0.000</td>\n",
       "      <td>0.000</td>\n",
       "      <td>1.000</td>\n",
       "      <td>0.0000</td>\n",
       "      <td>Music's biggest stars came together for a nigh...</td>\n",
       "    </tr>\n",
       "    <tr>\n",
       "      <th>2</th>\n",
       "      <td>CBS</td>\n",
       "      <td>2018-01-29 13:00:01</td>\n",
       "      <td>0.293</td>\n",
       "      <td>0.000</td>\n",
       "      <td>0.707</td>\n",
       "      <td>0.6597</td>\n",
       "      <td>With his powerful single 'Pray,\" @samsmithworl...</td>\n",
       "    </tr>\n",
       "    <tr>\n",
       "      <th>3</th>\n",
       "      <td>CBS</td>\n",
       "      <td>2018-01-29 14:00:02</td>\n",
       "      <td>0.136</td>\n",
       "      <td>0.123</td>\n",
       "      <td>0.741</td>\n",
       "      <td>0.3182</td>\n",
       "      <td>Watch @BrunoMars and @iamcardib pull out all t...</td>\n",
       "    </tr>\n",
       "    <tr>\n",
       "      <th>4</th>\n",
       "      <td>CBS</td>\n",
       "      <td>2018-01-29 15:00:03</td>\n",
       "      <td>0.086</td>\n",
       "      <td>0.000</td>\n",
       "      <td>0.914</td>\n",
       "      <td>0.1531</td>\n",
       "      <td>The #GRAMMYs were full of emotional performanc...</td>\n",
       "    </tr>\n",
       "  </tbody>\n",
       "</table>\n",
       "</div>"
      ],
      "text/plain": [
       "  Source                Date  Positive Score  Negative Score  Neutral Score  \\\n",
       "0    CBS 2018-01-29 08:18:18           0.000           0.000          1.000   \n",
       "1    CBS 2018-01-29 12:00:03           0.000           0.000          1.000   \n",
       "2    CBS 2018-01-29 13:00:01           0.293           0.000          0.707   \n",
       "3    CBS 2018-01-29 14:00:02           0.136           0.123          0.741   \n",
       "4    CBS 2018-01-29 15:00:03           0.086           0.000          0.914   \n",
       "\n",
       "   Compounded Score                                               Text  \n",
       "0            0.0000  The stage was packed with star power from star...  \n",
       "1            0.0000  Music's biggest stars came together for a nigh...  \n",
       "2            0.6597  With his powerful single 'Pray,\" @samsmithworl...  \n",
       "3            0.3182  Watch @BrunoMars and @iamcardib pull out all t...  \n",
       "4            0.1531  The #GRAMMYs were full of emotional performanc...  "
      ]
     },
     "execution_count": 33,
     "metadata": {},
     "output_type": "execute_result"
    }
   ],
   "source": [
    "# Next, we used the imported datetime module to convert the dates in the dataframe into the format YYYY-MM-DD\n",
    "\n",
    "df[\"Date\"] = pd.to_datetime(df[\"Date\"])\n",
    "\n",
    "# Then, the dataframe was sorted by date\n",
    "\n",
    "df.sort_values(\"Date\", inplace=True)\n",
    "df.reset_index(drop=True, inplace=True)\n",
    "\n",
    "# Show the dataframe, to check the desired formats\n",
    "df.head()"
   ]
  },
  {
   "cell_type": "code",
   "execution_count": 34,
   "metadata": {
    "scrolled": false
   },
   "outputs": [
    {
     "data": {
      "image/png": "[encoded data removed]",
      "text/plain": [
       "<matplotlib.figure.Figure at 0xe201a20>"
      ]
     },
     "metadata": {},
     "output_type": "display_data"
    }
   ],
   "source": [
    "# Prepare scatter plots\n",
    "\n",
    "plt.scatter(np.arange(-len(df[df[\"Source\"]==\"BBC\"]),0,1),df[df[\"Source\"]==\"BBC\"][\"Compounded Score\"],\n",
    "            edgecolor=\"black\",marker=\"o\",color=\"red\",label=\"BBC\")\n",
    "plt.scatter(np.arange(-len(df[df[\"Source\"]==\"CBS\"]),0,1),df[df[\"Source\"]==\"CBS\"][\"Compounded Score\"],\n",
    "            edgecolor=\"black\",marker=\"s\",color=\"blue\",label=\"CBS\")\n",
    "plt.scatter(np.arange(-len(df[df[\"Source\"]==\"CNN\"]),0,1),df[df[\"Source\"]==\"CNN\"][\"Compounded Score\"],\n",
    "            edgecolor=\"black\",marker=\"^\",color=\"orange\",label=\"CNN\")\n",
    "plt.scatter(np.arange(-len(df[df[\"Source\"]==\"FoxNews\"]),0,1),\n",
    "            df[df[\"Source\"]==\"fantastic ms.\"][\"Compounded Score\"],edgecolor=\"black\",marker=\"v\",color=\"green\",\n",
    "            label=\"Fox\")\n",
    "plt.scatter(np.arange(-len(df[df[\"Source\"]==\"The New York Times\"]),0,1),\n",
    "            df[df[\"Source\"]==\"The New York Times\"][\"Compounded Score\"],edgecolor=\"black\",marker=\"D\", color=\"brown\",\n",
    "            label=\"New York Times\")\n",
    "\n",
    "# Incorporate the other graph properties\n",
    "\n",
    "plt.xlabel(\"Tweets Ago\")\n",
    "plt.ylabel(\"Tweet Polarity\")\n",
    "plt.title(\"Tweet Sentiment Analysis News Source (%s)\" % time.strftime(\"%x\"))\n",
    "\n",
    "plt.xlim([-105,5])\n",
    "plt.ylim([-1.1, 1.1])\n",
    "plt.grid(True)\n",
    "\n",
    "# Create a legend outside the box, by using a reference to anchor point\n",
    "# Give a name to it so that later can be called by the function \"bbox_extra_artists\"\n",
    "legend=plt.legend((\"BBC\",\"CNN\",\"CBS\",\"Fox\",\"New York Times\"),title=\"News Sources\",bbox_to_anchor=(1,1.02))\n",
    "\n",
    "# Export chart to the output folder, including considering that the box would be cut if the indicated additions\n",
    "# are not made\n",
    "\n",
    "KKK = str(time.strftime(\"%m-%d-%y\"))+\"-Scatter-Plot.png\"\n",
    "plt.savefig(\"output/\" + KKK,bbox_extra_artists=(legend,),bbox_inches='tight')\n",
    "\n",
    "# Show plot\n",
    "plt.show()"
   ]
  },
  {
   "cell_type": "code",
   "execution_count": 35,
   "metadata": {},
   "outputs": [
    {
     "data": {
      "text/plain": [
       "Source\n",
       "BBC                   0.134859\n",
       "CBS                   0.326577\n",
       "CNN                   0.326633\n",
       "Fox News              0.119550\n",
       "The New York Times    0.143571\n",
       "Name: Compounded Score, dtype: float64"
      ]
     },
     "execution_count": 35,
     "metadata": {},
     "output_type": "execute_result"
    }
   ],
   "source": [
    "# OVERALL SENTIMENT ANALYSIS BY NEWS SOURCE\n",
    "\n",
    "# Create dataframe that calculate the overall compounded score to place on the y axis\n",
    "\n",
    "KKK = df.groupby([\"Source\"]).mean()[\"Compounded Score\"]\n",
    "overallDF = pd.DataFrame.from_dict(KKK)\n",
    "overallDF[\"Compounded Score\"]"
   ]
  },
  {
   "cell_type": "code",
   "execution_count": 36,
   "metadata": {},
   "outputs": [
    {
     "data": {
      "text/plain": [
       "Source\n",
       "BBC                   0.13\n",
       "CBS                   0.33\n",
       "CNN                   0.33\n",
       "Fox News              0.12\n",
       "The New York Times    0.14\n",
       "Name: Compounded Score, dtype: float64"
      ]
     },
     "execution_count": 36,
     "metadata": {},
     "output_type": "execute_result"
    }
   ],
   "source": [
    "# Rounding the numbers to two decimals\n",
    "\n",
    "roundedDF=np.around(overallDF, decimals=2)\n",
    "roundedDF[\"Compounded Score\"]"
   ]
  },
  {
   "cell_type": "code",
   "execution_count": 37,
   "metadata": {},
   "outputs": [
    {
     "data": {
      "image/png": "[encoded data removed]",
      "text/plain": [
       "<matplotlib.figure.Figure at 0xce275f8>"
      ]
     },
     "metadata": {},
     "output_type": "display_data"
    }
   ],
   "source": [
    "# Bar chart\n",
    "\n",
    "plt.bar(sources,roundedDF[\"Compounded Score\"],color=(\"red\",\"blue\",\"orange\",\"green\",\"brown\"),alpha=(0.8))\n",
    "\n",
    "plt.xlabel(\"News Sources\")\n",
    "plt.ylabel(\"Tweet Polarity\")\n",
    "plt.title(\"Overall Tweet Sentiment by News Source (%s)\" % time.strftime(\"%x\"))\n",
    "\n",
    "# Values on top of bars\n",
    "\n",
    "x=np.arange(len(roundedDF[\"Compounded Score\"]))\n",
    "for i,j in zip(x,roundedDF[\"Compounded Score\"]):\n",
    "    plt.text(i,j,str(j),ha=\"center\",va=\"bottom\")\n",
    "\n",
    "# Export chart to the output folder\n",
    "    \n",
    "KKK = str(time.strftime(\"%m-%d-%y\"))+\"-Bar-Chart.png\"\n",
    "plt.savefig(\"output/\" + KKK)\n",
    "\n",
    "# Show plot\n",
    "plt.show()"
   ]
  }
 ],
 "metadata": {
  "anaconda-cloud": {},
  "kernelspec": {
   "display_name": "Python 3",
   "language": "python",
   "name": "python3"
  },
  "language_info": {
   "codemirror_mode": {
    "name": "ipython",
    "version": 3
   },
   "file_extension": ".py",
   "mimetype": "text/x-python",
   "name": "python",
   "nbconvert_exporter": "python",
   "pygments_lexer": "ipython3",
   "version": "3.6.3"
  }
 },
 "nbformat": 4,
 "nbformat_minor": 1
}
